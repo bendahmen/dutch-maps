{
 "cells": [
  {
   "cell_type": "code",
   "execution_count": 11,
   "metadata": {},
   "outputs": [
    {
     "name": "stdout",
     "output_type": "stream",
     "text": [
      "   id statcode  jrstatcode    statnaam   rubriek  \\\n",
      "0   1   GM0003  2019GM0003  Appingedam  gemeente   \n",
      "1   2   GM0010  2019GM0010    Delfzijl  gemeente   \n",
      "2   3   GM0014  2019GM0014   Groningen  gemeente   \n",
      "3   4   GM0024  2019GM0024   Loppersum  gemeente   \n",
      "4   5   GM0034  2019GM0034      Almere  gemeente   \n",
      "\n",
      "                                            geometry  \\\n",
      "0  MULTIPOLYGON (((254777.541 596451.767, 254108....   \n",
      "1  MULTIPOLYGON (((253004.946 603887.823, 251827....   \n",
      "2  MULTIPOLYGON (((245194.691 592594.007, 245002....   \n",
      "3  MULTIPOLYGON (((247882.785 603505.649, 247754....   \n",
      "4  MULTIPOLYGON (((146891.056 493291.709, 146242....   \n",
      "\n",
      "                        centroid  \n",
      "0  POINT (252449.552 593289.368)  \n",
      "1   POINT (257826.29 593719.367)  \n",
      "2   POINT (237391.098 582033.54)  \n",
      "3  POINT (244311.727 595754.623)  \n",
      "4   POINT (145428.485 486601.39)  \n",
      "       SITECODE                                  SITENAME RELEASE_DA  MS  \\\n",
      "5824  NL2009162                      Abtskolk & De Putten 2019-05-21  NL   \n",
      "5927  NL2011015                       Van Oordt's Mersken 2019-05-21  NL   \n",
      "5934  NL9801080               Noordhollands Duinreservaat 2019-05-21  NL   \n",
      "6361  NL2003035                            Oeffeltermeent 2019-05-21  NL   \n",
      "6363  NL2003038  Oudegaasterbrekken, Fluessen en omgeving 2019-05-21  NL   \n",
      "\n",
      "     SITETYPE INSPIRE_ID                                           geometry  \n",
      "5824        A       None  POLYGON ((106063.238 530494.199, 106048.383 53...  \n",
      "5927        B       None  MULTIPOLYGON (((200567.552 562903.848, 200581....  \n",
      "5934        B       None  MULTIPOLYGON (((104260.633 515170.804, 104270....  \n",
      "6361        B       None  POLYGON ((192803.209 414253.963, 192810.709 41...  \n",
      "6363        B       None  MULTIPOLYGON (((165560.663 552166.307, 167253....  \n"
     ]
    }
   ],
   "source": [
    "import pandas as pd\n",
    "import geopandas as gpd\n",
    "import requests\n",
    "\n",
    "gemeente_borders = gpd.read_file('../data/gemeente_borders.json')\n",
    "gemeente_borders = gemeente_borders.to_crs(epsg=28992)\n",
    "\n",
    "natura2000 = gpd.read_file('../data/Natura2000_end2019_shp/Natura2000_end2019_epsg3035.shp')\n",
    "natura2000 = natura2000.to_crs(epsg=28992)\n",
    "\n",
    "# Filter rows where rubriek is \"gemeente\"\n",
    "gemeente_borders = gemeente_borders[gemeente_borders['rubriek'] == \"gemeente\"]\n",
    "\n",
    "# Filter rows where member state is \"NL\"\n",
    "natura2000 = natura2000[natura2000['MS'] == \"NL\"]\n",
    "\n",
    "gemeente_borders['centroid'] = gemeente_borders.centroid\n",
    "print(gemeente_borders.head())\n",
    "print(natura2000.head())\n",
    "\n",
    "# Define a function to compute the minimum distance from a point to any Natura 2000 area\n",
    "def min_distance(point, areas):\n",
    "    return areas.distance(point).min()\n",
    "\n",
    "# Calculate distance for each gemeente\n",
    "gemeente_borders['distance'] = gemeente_borders['centroid'].apply(lambda pt: min_distance(pt, natura2000.geometry))\n",
    "\n",
    "# Save results to a CSV\n",
    "gemeente_borders[['statcode', 'statnaam', 'distance']].to_csv('../data/output/gemeente_natura2000_distance.csv', index=False)"
   ]
  }
 ],
 "metadata": {
  "kernelspec": {
   "display_name": "env",
   "language": "python",
   "name": "python3"
  },
  "language_info": {
   "codemirror_mode": {
    "name": "ipython",
    "version": 3
   },
   "file_extension": ".py",
   "mimetype": "text/x-python",
   "name": "python",
   "nbconvert_exporter": "python",
   "pygments_lexer": "ipython3",
   "version": "3.13.1"
  }
 },
 "nbformat": 4,
 "nbformat_minor": 2
}
