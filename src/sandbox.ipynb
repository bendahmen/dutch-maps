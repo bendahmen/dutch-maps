{
 "cells": [
  {
   "cell_type": "code",
   "execution_count": 22,
   "metadata": {},
   "outputs": [
    {
     "name": "stdout",
     "output_type": "stream",
     "text": [
      "   id statcode  jrstatcode    statnaam   rubriek  \\\n",
      "0   1   GM0003  2019GM0003  Appingedam  gemeente   \n",
      "1   2   GM0010  2019GM0010    Delfzijl  gemeente   \n",
      "2   3   GM0014  2019GM0014   Groningen  gemeente   \n",
      "3   4   GM0024  2019GM0024   Loppersum  gemeente   \n",
      "4   5   GM0034  2019GM0034      Almere  gemeente   \n",
      "\n",
      "               centroid_geometry  index_right  deposition  max_deposition  \\\n",
      "0  POINT (252449.552 593289.368)         9084   14.076298       21.317795   \n",
      "1   POINT (257826.29 593719.367)         9084   14.076298       21.317795   \n",
      "2   POINT (237391.098 582033.54)       153988   16.000139       42.990200   \n",
      "3  POINT (244311.727 595754.623)        40332   13.735153       21.317795   \n",
      "4   POINT (145428.485 486601.39)       763016   15.785524       31.003220   \n",
      "\n",
      "       distance  \n",
      "0  15186.756902  \n",
      "1   9932.462305  \n",
      "2   9606.695788  \n",
      "3  13290.371941  \n",
      "4  10745.317562  \n",
      "id                                                             6\n",
      "statcode                                                  GM0037\n",
      "jrstatcode                                            2019GM0037\n",
      "statnaam                                             Stadskanaal\n",
      "rubriek                                                 gemeente\n",
      "centroid_geometry    POINT (263951.02165975317 558465.853822844)\n",
      "index_right                                               137604\n",
      "deposition                                             16.968641\n",
      "max_deposition                                         30.290915\n",
      "distance                                             6873.604757\n",
      "Name: 5, dtype: object\n"
     ]
    }
   ],
   "source": [
    "import geopandas as gpd\n",
    "\n",
    "depositions = gpd.read_file('../data/geopackage-monitor_2025-01-06/natura2000-area-receptor-nitrogen-loads.gpkg', layer='m23').to_crs(epsg=28992)\n",
    "depositions = depositions[depositions['year']==2020]\n",
    "depositions['max_deposition'] = depositions.groupby('natura2000_area_code')['deposition'].transform('max')\n",
    "\n",
    "# read Dutch gemeentes\n",
    "gemeente_borders = gpd.read_file('../data/gemeente_borders.json')\n",
    "# convert to common CRS\n",
    "gemeente_borders = gemeente_borders.to_crs(epsg=28992)\n",
    "\n",
    "# Calculate centroids for each gemeente\n",
    "gemeente_borders['centroid_geometry'] = gemeente_borders.geometry.centroid\n",
    "gemeente_centroids = gpd.GeoDataFrame(gemeente_borders.drop(columns='geometry'),\n",
    "                                      geometry='centroid_geometry',\n",
    "                                      crs=gemeente_borders.crs)\n",
    "\n",
    "\n",
    "# Use sjoin_nearest to find for each centroid the nearest hexagon from depositions.\n",
    "# We include the distance, deposition and max_deposition columns.\n",
    "nearest = gpd.sjoin_nearest(gemeente_centroids, \n",
    "                            depositions[['geometry', 'deposition', 'max_deposition']],\n",
    "                            how=\"left\",\n",
    "                            distance_col=\"distance\")\n",
    "\n",
    "\n",
    "print(nearest.head())\n",
    "\n"
   ]
  }
 ],
 "metadata": {
  "kernelspec": {
   "display_name": "env",
   "language": "python",
   "name": "python3"
  },
  "language_info": {
   "codemirror_mode": {
    "name": "ipython",
    "version": 3
   },
   "file_extension": ".py",
   "mimetype": "text/x-python",
   "name": "python",
   "nbconvert_exporter": "python",
   "pygments_lexer": "ipython3",
   "version": "3.13.1"
  }
 },
 "nbformat": 4,
 "nbformat_minor": 2
}
