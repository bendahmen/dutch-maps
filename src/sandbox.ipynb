{
 "cells": [
  {
   "cell_type": "code",
   "execution_count": null,
   "metadata": {},
   "outputs": [],
   "source": [
    "import pandas as pd\n",
    "import geopandas as gpd\n",
    "import requests\n",
    "\n",
    "def get_odata(target_url):\n",
    "    data = pd.DataFrame()\n",
    "    while target_url:\n",
    "        r = requests.get(target_url).json()\n",
    "        data = data.append(pd.DataFrame(r['value']))\n",
    "        \n",
    "        if '@odata.nextLink' in r:\n",
    "            target_url = r['@odata.nextLink']\n",
    "        else:\n",
    "            target_url = None\n",
    "            \n",
    "    return data\n",
    "\n",
    "geodata_url = \"https://service.pdok.nl/cbs/gebiedsindelingen/2019/wfs/v1_0?request=GetCapabilities&service=WFS\"\n",
    "gemeente_borders = gpd.read_file(geodata_url)"
   ]
  }
 ],
 "metadata": {
  "language_info": {
   "name": "python"
  }
 },
 "nbformat": 4,
 "nbformat_minor": 2
}
